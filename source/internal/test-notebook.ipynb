{
 "cells": [
  {
   "attachments": {},
   "cell_type": "markdown",
   "metadata": {},
   "source": [
    "# notebook の動作確認"
   ]
  },
  {
   "cell_type": "code",
   "execution_count": null,
   "metadata": {},
   "outputs": [],
   "source": [
    "import numpy\n",
    "import plotly.express"
   ]
  },
  {
   "cell_type": "code",
   "execution_count": null,
   "metadata": {
    "scrolled": false
   },
   "outputs": [],
   "source": [
    "x = numpy.linspace(0.0, 2.0, 101)\n",
    "y = numpy.sin(x)\n",
    "fig = plotly.express.line(\n",
    "    x=x,\n",
    "    y=y,\n",
    "    labels={\"x\": \"$x$\", \"y\": \"$y$\"},\n",
    "    title=r\"$\\text{Sample plot} \\  y = \\sin{x}$\",\n",
    ")\n",
    "fig.show(renderer=\"notebook_connected\")"
   ]
  },
  {
   "attachments": {},
   "cell_type": "markdown",
   "metadata": {},
   "source": [
    "$$\n",
    "\\exp(i\\pi) = -1\n",
    "$$\n",
    "\n",
    "数式を文章中に含めてみると $\\sqrt{2} = 1.414213562$ となる。\n",
    "\n",
    "$$\n",
    "\\begin{pmatrix} a & b \\\\ c & d \\end{pmatrix}\n",
    "$$"
   ]
  },
  {
   "cell_type": "markdown",
   "metadata": {},
   "source": [
    "```{note}\n",
    "note が使えることをテスト\n",
    "```"
   ]
  }
 ],
 "metadata": {
  "celltoolbar": "Raw Cell Format",
  "kernelspec": {
   "display_name": "Python 3 (ipykernel)",
   "language": "python",
   "name": "python3"
  },
  "language_info": {
   "codemirror_mode": {
    "name": "ipython",
    "version": 3
   },
   "file_extension": ".py",
   "mimetype": "text/x-python",
   "name": "python",
   "nbconvert_exporter": "python",
   "pygments_lexer": "ipython3",
   "version": "3.11.6"
  }
 },
 "nbformat": 4,
 "nbformat_minor": 4
}
